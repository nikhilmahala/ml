{
 "cells": [
  {
   "cell_type": "code",
   "execution_count": 1,
   "metadata": {},
   "outputs": [],
   "source": [
    "import numpy as np\n",
    "import csv\n",
    "import pandas as pd\n",
    "from pgmpy.models import BayesianModel\n",
    "from pgmpy.estimators import MaximumLikelihoodEstimator\n",
    "from pgmpy.inference import VariableElimination "
   ]
  },
  {
   "cell_type": "code",
   "execution_count": 2,
   "metadata": {},
   "outputs": [],
   "source": [
    "heartDisease = pd.read_csv('HeartDisease.csv')\n",
    "heartDisease = heartDisease.replace('?',np.nan)"
   ]
  },
  {
   "cell_type": "code",
   "execution_count": 3,
   "metadata": {},
   "outputs": [
    {
     "name": "stdout",
     "output_type": "stream",
     "text": [
      "Few examples from the dataset are given below\n",
      "   age  sex  cp  trestbps  chol  fbs  restecg  thalach  exang  oldpeak  slope  \\\n",
      "0   63    1   3       145   233    1        0      150      0      2.3      0   \n",
      "1   37    1   2       130   250    0        1      187      0      3.5      0   \n",
      "2   41    0   1       130   204    0        0      172      0      1.4      2   \n",
      "3   56    1   1       120   236    0        1      178      0      0.8      2   \n",
      "4   57    0   0       120   354    0        1      163      1      0.6      2   \n",
      "\n",
      "   ca  thal  target  \n",
      "0   0     1       1  \n",
      "1   0     2       1  \n",
      "2   0     2       1  \n",
      "3   0     2       1  \n",
      "4   0     2       1  \n"
     ]
    }
   ],
   "source": [
    "print('Few examples from the dataset are given below')\n",
    "print(heartDisease.head())"
   ]
  },
  {
   "cell_type": "code",
   "execution_count": 4,
   "metadata": {},
   "outputs": [],
   "source": [
    "del heartDisease['ca']\n",
    "del heartDisease['slope']\n",
    "del heartDisease['thal']\n",
    "del heartDisease['oldpeak']"
   ]
  },
  {
   "cell_type": "code",
   "execution_count": 5,
   "metadata": {},
   "outputs": [
    {
     "name": "stdout",
     "output_type": "stream",
     "text": [
      "   age  sex  cp  trestbps  chol  fbs  restecg  thalach  exang  target\n",
      "0   63    1   3       145   233    1        0      150      0       1\n",
      "1   37    1   2       130   250    0        1      187      0       1\n",
      "2   41    0   1       130   204    0        0      172      0       1\n",
      "3   56    1   1       120   236    0        1      178      0       1\n",
      "4   57    0   0       120   354    0        1      163      1       1\n"
     ]
    }
   ],
   "source": [
    "print(heartDisease.head())"
   ]
  },
  {
   "cell_type": "code",
   "execution_count": 6,
   "metadata": {},
   "outputs": [],
   "source": [
    "Model=BayesianModel([('age','trestbps'),('age','fbs'),\n",
    "('sex','trestbps'),('exang','trestbps'),('trestbps','target'),('fbs','target'),('target','restecg'),\n",
    "('target','thalach'),('target','chol')])"
   ]
  },
  {
   "cell_type": "code",
   "execution_count": 7,
   "metadata": {},
   "outputs": [
    {
     "name": "stdout",
     "output_type": "stream",
     "text": [
      "\n",
      " Learning CPD using Maximum likelihood estimators\n"
     ]
    }
   ],
   "source": [
    "print('\\n Learning CPD using Maximum likelihood estimators')\n",
    "Model.fit(heartDisease,estimator=MaximumLikelihoodEstimator)"
   ]
  },
  {
   "cell_type": "code",
   "execution_count": 8,
   "metadata": {},
   "outputs": [
    {
     "name": "stdout",
     "output_type": "stream",
     "text": [
      "\n",
      " Inferencing with Bayesian Network:\n"
     ]
    }
   ],
   "source": [
    "print('\\n Inferencing with Bayesian Network:')\n",
    "HeartDisease_infer = VariableElimination(Model)"
   ]
  },
  {
   "cell_type": "code",
   "execution_count": 9,
   "metadata": {},
   "outputs": [
    {
     "name": "stdout",
     "output_type": "stream",
     "text": [
      "\n",
      " 1. Probability of HeartDisease given Age=30\n"
     ]
    },
    {
     "name": "stderr",
     "output_type": "stream",
     "text": [
      "C:\\Users\\AMRUTHA\\anaconda3\\lib\\site-packages\\pgmpy\\factors\\discrete\\DiscreteFactor.py:518: UserWarning: Found unknown state name. Trying to switch to using all state names as state numbers\n",
      "  warn(\n",
      "Finding Elimination Order: :   0%|                                                               | 0/7 [00:00<?, ?it/s]\n",
      "  0%|                                                                                            | 0/7 [00:00<?, ?it/s]\u001b[A\n",
      "Eliminating: restecg:   0%|                                                                      | 0/7 [00:00<?, ?it/s]\u001b[A\n",
      "Eliminating: trestbps:   0%|                                                                     | 0/7 [00:00<?, ?it/s]\u001b[A\n",
      "Eliminating: thalach:   0%|                                                                      | 0/7 [00:00<?, ?it/s]\u001b[A\n",
      "Eliminating: fbs:   0%|                                                                          | 0/7 [00:00<?, ?it/s]\u001b[A\n",
      "Eliminating: exang:   0%|                                                                        | 0/7 [00:00<?, ?it/s]\u001b[A\n",
      "Eliminating: chol:   0%|                                                                         | 0/7 [00:00<?, ?it/s]\u001b[A\n",
      "Eliminating: sex: 100%|█████████████████████████████████████████████████████████████████| 7/7 [00:00<00:00, 437.46it/s]\u001b[A"
     ]
    },
    {
     "name": "stdout",
     "output_type": "stream",
     "text": [
      "+-----------+---------------+\n",
      "| target    |   phi(target) |\n",
      "+===========+===============+\n",
      "| target(0) |        0.5871 |\n",
      "+-----------+---------------+\n",
      "| target(1) |        0.4129 |\n",
      "+-----------+---------------+\n"
     ]
    },
    {
     "name": "stderr",
     "output_type": "stream",
     "text": [
      "\n"
     ]
    }
   ],
   "source": [
    "print('\\n 1. Probability of HeartDisease given Age=30')\n",
    "q=HeartDisease_infer.query(variables=['target'],evidence={'age':30})\n",
    "print(q)"
   ]
  },
  {
   "cell_type": "code",
   "execution_count": 10,
   "metadata": {},
   "outputs": [
    {
     "name": "stderr",
     "output_type": "stream",
     "text": [
      "\r",
      "Finding Elimination Order: : 100%|██████████████████████████████████████████████████████| 7/7 [00:00<00:00, 147.07it/s]"
     ]
    },
    {
     "name": "stdout",
     "output_type": "stream",
     "text": [
      "\n",
      " 1. Probability of HeartDisease given Age=30\n"
     ]
    },
    {
     "name": "stderr",
     "output_type": "stream",
     "text": [
      "\n",
      "Finding Elimination Order: :   0%|                                                               | 0/7 [00:00<?, ?it/s]\n",
      "  0%|                                                                                            | 0/7 [00:00<?, ?it/s]\u001b[A\n",
      "Eliminating: restecg:   0%|                                                                      | 0/7 [00:00<?, ?it/s]\u001b[A\n",
      "Eliminating: trestbps:   0%|                                                                     | 0/7 [00:00<?, ?it/s]\u001b[A\n",
      "Eliminating: thalach:   0%|                                                                      | 0/7 [00:00<?, ?it/s]\u001b[A\n",
      "Eliminating: fbs:   0%|                                                                          | 0/7 [00:00<?, ?it/s]\u001b[A\n",
      "Eliminating: exang:   0%|                                                                        | 0/7 [00:00<?, ?it/s]\u001b[A\n",
      "Eliminating: chol:   0%|                                                                         | 0/7 [00:00<?, ?it/s]\u001b[A\n",
      "Eliminating: sex: 100%|█████████████████████████████████████████████████████████████████| 7/7 [00:00<00:00, 437.50it/s]\u001b[A"
     ]
    },
    {
     "name": "stdout",
     "output_type": "stream",
     "text": [
      "+-----------+---------------+\n",
      "| target    |   phi(target) |\n",
      "+===========+===============+\n",
      "| target(0) |        0.4058 |\n",
      "+-----------+---------------+\n",
      "| target(1) |        0.5942 |\n",
      "+-----------+---------------+\n"
     ]
    },
    {
     "name": "stderr",
     "output_type": "stream",
     "text": [
      "\n"
     ]
    }
   ],
   "source": [
    "print('\\n 1. Probability of HeartDisease given Age=30')\n",
    "q=HeartDisease_infer.query(variables=['target'],evidence\n",
    "={'age':28})\n",
    "print(q)"
   ]
  },
  {
   "cell_type": "code",
   "execution_count": 11,
   "metadata": {},
   "outputs": [
    {
     "name": "stderr",
     "output_type": "stream",
     "text": [
      "\r",
      "Finding Elimination Order: : 100%|██████████████████████████████████████████████████████| 7/7 [00:00<00:00, 126.99it/s]"
     ]
    },
    {
     "name": "stdout",
     "output_type": "stream",
     "text": [
      "\n",
      " 2. Probability of HeartDisease given cholesterol=100\n"
     ]
    },
    {
     "name": "stderr",
     "output_type": "stream",
     "text": [
      "\n",
      "Finding Elimination Order: :   0%|                                                               | 0/7 [00:00<?, ?it/s]\n",
      "  0%|                                                                                            | 0/7 [00:00<?, ?it/s]\u001b[A\n",
      "Eliminating: restecg:   0%|                                                                      | 0/7 [00:00<?, ?it/s]\u001b[A\n",
      "Finding Elimination Order: : 100%|██████████████████████████████████████████████████████| 7/7 [00:00<00:00, 700.17it/s]\u001b[A\n",
      "\n",
      "Eliminating: thalach:   0%|                                                                      | 0/7 [00:00<?, ?it/s]\u001b[A\n",
      "Eliminating: fbs:   0%|                                                                          | 0/7 [00:00<?, ?it/s]\u001b[A\n",
      "Eliminating: age:   0%|                                                                          | 0/7 [00:00<?, ?it/s]\u001b[A\n",
      "Eliminating: exang:   0%|                                                                        | 0/7 [00:00<?, ?it/s]\u001b[A\n",
      "Eliminating: sex: 100%|█████████████████████████████████████████████████████████████████| 7/7 [00:00<00:00, 103.59it/s]\u001b[A"
     ]
    },
    {
     "name": "stdout",
     "output_type": "stream",
     "text": [
      "+-----------+---------------+\n",
      "| target    |   phi(target) |\n",
      "+===========+===============+\n",
      "| target(0) |        0.0000 |\n",
      "+-----------+---------------+\n",
      "| target(1) |        1.0000 |\n",
      "+-----------+---------------+\n"
     ]
    },
    {
     "name": "stderr",
     "output_type": "stream",
     "text": [
      "\n"
     ]
    }
   ],
   "source": [
    "print('\\n 2. Probability of HeartDisease given cholesterol=100')\n",
    "q=HeartDisease_infer.query(variables=['target'],evidence\n",
    "={'chol':100})\n",
    "print(q)"
   ]
  }
 ],
 "metadata": {
  "kernelspec": {
   "display_name": "Python 3",
   "language": "python",
   "name": "python3"
  },
  "language_info": {
   "codemirror_mode": {
    "name": "ipython",
    "version": 3
   },
   "file_extension": ".py",
   "mimetype": "text/x-python",
   "name": "python",
   "nbconvert_exporter": "python",
   "pygments_lexer": "ipython3",
   "version": "3.8.5"
  }
 },
 "nbformat": 4,
 "nbformat_minor": 4
}
