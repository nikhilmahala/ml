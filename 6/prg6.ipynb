{
 "cells": [
  {
   "cell_type": "code",
   "execution_count": 1,
   "metadata": {},
   "outputs": [
    {
     "name": "stdout",
     "output_type": "stream",
     "text": [
      "Training dataset:  316814\n",
      "Test dataset:  105605\n",
      "Accuracy: 0.9283367264807537\n",
      "              precision    recall  f1-score   support\n",
      "\n",
      "           1       0.91      0.91      0.91     29028\n",
      "           2       0.90      0.91      0.90     27174\n",
      "           3       0.97      0.96      0.96     38082\n",
      "           4       0.92      0.92      0.92     11321\n",
      "\n",
      "    accuracy                           0.93    105605\n",
      "   macro avg       0.92      0.92      0.92    105605\n",
      "weighted avg       0.93      0.93      0.93    105605\n",
      "\n",
      "confusion matrix is \n",
      " [[26306  1842   478   402]\n",
      " [ 1733 24703   496   242]\n",
      " [  547   717 36607   211]\n",
      " [  389   187   324 10421]]\n"
     ]
    }
   ],
   "source": [
    "#Load data \n",
    "import pandas as pd \n",
    "import numpy as np \n",
    "news_df = pd.read_csv(\"news.csv\",sep=\",\")\n",
    "\n",
    "#Preprocess data \n",
    "import string \n",
    "news_df['CATEGORY'] = news_df.CATEGORY.map({ 'b': 1, 't': 2, 'e': 3, 'm': 4 }) \n",
    "#news_df['TITLE'] = news_df.TITLE.map(str.maketrans('','', string.punctuation))\n",
    "news_df= news_df.replace(np.nan, '', regex=True) \n",
    "news_df.tail(6)\n",
    "\n",
    "#Split into train and test data sets \n",
    "from sklearn.model_selection import train_test_split\n",
    "\n",
    "X_train, X_test, y_train, y_test = train_test_split(news_df['TITLE'],news_df['CATEGORY'],random_state = 1) \n",
    "print(\"Training dataset: \", X_train.shape[0]) \n",
    "print(\"Test dataset: \", X_test.shape[0])\n",
    "\n",
    "#Extract features \n",
    "from sklearn.feature_extraction.text import CountVectorizer\n",
    "\n",
    "count_vector = CountVectorizer(stop_words = \"english\") \n",
    "training_data = count_vector.fit_transform(X_train) \n",
    "testing_data = count_vector.transform(X_test)\n",
    "\n",
    "#Train Multinomial Naive Bayes classifier \n",
    "from sklearn.naive_bayes import MultinomialNB\n",
    "\n",
    "naive_bayes = MultinomialNB() \n",
    "naive_bayes.fit(training_data, y_train)\n",
    "\n",
    "#Generate predictions \n",
    "predictions = naive_bayes.predict(testing_data)\n",
    "predictions\n",
    "\n",
    "from sklearn.metrics import accuracy_score \n",
    "print(\"Accuracy:\", accuracy_score(y_test, predictions))\n",
    "\n",
    "from sklearn.metrics import classification_report \n",
    "print(classification_report(y_test, predictions))\n",
    "\n",
    "from sklearn.metrics import confusion_matrix \n",
    "print(\"confusion matrix is \\n\", confusion_matrix(y_test,predictions))"
   ]
  }
 ],
 "metadata": {
  "kernelspec": {
   "display_name": "Python 3",
   "language": "python",
   "name": "python3"
  },
  "language_info": {
   "codemirror_mode": {
    "name": "ipython",
    "version": 3
   },
   "file_extension": ".py",
   "mimetype": "text/x-python",
   "name": "python",
   "nbconvert_exporter": "python",
   "pygments_lexer": "ipython3",
   "version": "3.8.5"
  }
 },
 "nbformat": 4,
 "nbformat_minor": 4
}
